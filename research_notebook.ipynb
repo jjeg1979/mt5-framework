{
 "cells": [
  {
   "cell_type": "code",
   "execution_count": 2,
   "metadata": {},
   "outputs": [],
   "source": [
    "import MetaTrader5 as mt5\n",
    "import pandas as pd"
   ]
  },
  {
   "cell_type": "code",
   "execution_count": 3,
   "metadata": {},
   "outputs": [
    {
     "data": {
      "text/plain": [
       "True"
      ]
     },
     "execution_count": 3,
     "metadata": {},
     "output_type": "execute_result"
    }
   ],
   "source": [
    "mt5.initialize(  # type: ignore\n",
    "    path=\"C:\\\\Program Files\\\\Darwinex MT5\\\\terminal64.exe\",\n",
    "    login=3000065368,\n",
    "    password=\"cS5O6j101#\",\n",
    "    server=\"Darwinex-Demo\",\n",
    "    timeout=60000,\n",
    "    portable=False)"
   ]
  },
  {
   "cell_type": "code",
   "execution_count": null,
   "metadata": {},
   "outputs": [],
   "source": [
    "symbol = \"EURUSD\"\n",
    "tf = mt5.TIMEFRAME_M15\n",
    "from_position = 1\n",
    "num_bars = 50\n",
    "bars = pd.DataFrame(mt5.copy_rates_from_pos(symbol, tf, from_position, num_bars))  # type: ignore\n",
    "bars[\"time\"] = pd.to_datetime(bars[\"time\"], unit=\"s\")\n",
    "bars.set_index(\"time\", inplace=True)\n",
    "bars.rename(columns={'tick_volume': 'tickvol', 'real_volume': 'vol'}, inplace=True)\n",
    "bars = bars[['open', 'high', 'low', 'close', 'tickvol', 'vol', 'spread']]\n",
    "bars.head()\n",
    "\n"
   ]
  },
  {
   "cell_type": "code",
   "execution_count": null,
   "metadata": {},
   "outputs": [],
   "source": [
    "%%timeit\n",
    "bars.close.rolling(window=10).mean().iloc[-1]"
   ]
  },
  {
   "cell_type": "code",
   "execution_count": null,
   "metadata": {},
   "outputs": [],
   "source": [
    "%%timeit\n",
    "bars['close'][-10:].mean()"
   ]
  },
  {
   "cell_type": "code",
   "execution_count": null,
   "metadata": {},
   "outputs": [],
   "source": [
    "bars[-5:]"
   ]
  },
  {
   "cell_type": "code",
   "execution_count": null,
   "metadata": {},
   "outputs": [],
   "source": [
    "mt5.symbol_info_tick(\"EURUSD\")._asdict()  # type: ignore"
   ]
  },
  {
   "cell_type": "code",
   "execution_count": null,
   "metadata": {},
   "outputs": [],
   "source": [
    "def get_latest_tick(symbol: str) -> dict[str, any]:  # type: ignore\n",
    "    try:\n",
    "        tick = mt5.symbol_info_tick(symbol)  # type: ignore\n",
    "        if tick is None:\n",
    "            print(f\"Unable to retrieve last tick data of {symbol}!\")\n",
    "            return {}  # type: ignore\n",
    "    except Exception as e:\n",
    "        print(f\"Something went wrong retrieving data from {symbol}. MT5 errror: {mt5.last_error()}, exception: {e}\")  # type: ignore\n",
    "    \n",
    "    else:\n",
    "        return tick._asdict()  # type: ignore   \n"
   ]
  },
  {
   "cell_type": "code",
   "execution_count": null,
   "metadata": {},
   "outputs": [],
   "source": [
    "get_latest_tick(\"asfda\")"
   ]
  },
  {
   "cell_type": "code",
   "execution_count": null,
   "metadata": {},
   "outputs": [],
   "source": [
    "from enum import StrEnum, auto\n",
    "\n",
    "class EventType(StrEnum):\n",
    "    DATA = auto()"
   ]
  },
  {
   "cell_type": "code",
   "execution_count": null,
   "metadata": {},
   "outputs": [],
   "source": [
    "evento: EventType = EventType.DATA"
   ]
  },
  {
   "cell_type": "code",
   "execution_count": null,
   "metadata": {},
   "outputs": [],
   "source": [
    "# symbol_info\n",
    "mt5.symbol_info(\"XNGUSD\").volume_min  # type: ignore"
   ]
  },
  {
   "cell_type": "code",
   "execution_count": null,
   "metadata": {},
   "outputs": [],
   "source": [
    "# Información de la cuenta\n",
    "account_info = mt5.account_info()._asdict()  # type: ignore\n",
    "account_info"
   ]
  },
  {
   "cell_type": "code",
   "execution_count": null,
   "metadata": {},
   "outputs": [],
   "source": [
    "# symbol_info\n",
    "mt5.symbol_info(\"SP500\")._asdict()  # type: ignore"
   ]
  },
  {
   "cell_type": "code",
   "execution_count": null,
   "metadata": {},
   "outputs": [],
   "source": [
    "mt5.positions_get()  # type: ignore"
   ]
  },
  {
   "cell_type": "markdown",
   "metadata": {},
   "source": [
    "# Research Método order_send()"
   ]
  },
  {
   "cell_type": "code",
   "execution_count": 4,
   "metadata": {},
   "outputs": [],
   "source": [
    "market_order_request = {\n",
    "    \"action\": mt5.TRADE_ACTION_DEAL,\n",
    "    \"symbol\": \"EURUSD\",\n",
    "    \"volume\": 0.67,\n",
    "    \"sl\": 0.0,\n",
    "    \"tp\": 0.0,\n",
    "    \"type\": mt5.ORDER_TYPE_BUY,\n",
    "    \"deviation\": 0,\n",
    "    \"magic\": 1258,\n",
    "    \"comment\": \"FWK Market Order\",\n",
    "    \"type_filling\": mt5.ORDER_FILLING_FOK,\n",
    "}"
   ]
  },
  {
   "cell_type": "code",
   "execution_count": 6,
   "metadata": {},
   "outputs": [],
   "source": [
    "result = mt5.order_send(market_order_request)  # type: ignore"
   ]
  },
  {
   "cell_type": "code",
   "execution_count": 8,
   "metadata": {},
   "outputs": [
    {
     "data": {
      "text/plain": [
       "{'retcode': 10009,\n",
       " 'deal': 2019130296,\n",
       " 'order': 2026893445,\n",
       " 'volume': 0.67,\n",
       " 'price': 1.08433,\n",
       " 'bid': 1.0843,\n",
       " 'ask': 1.08433,\n",
       " 'comment': 'Request executed',\n",
       " 'request_id': 1174712123,\n",
       " 'retcode_external': 0,\n",
       " 'request': TradeRequest(action=1, magic=1258, order=0, symbol='EURUSD', volume=0.67, price=0.0, stoplimit=0.0, sl=0.0, tp=0.0, deviation=0, type=0, type_filling=0, type_time=0, expiration=0, comment='FWK Market Order', position=0, position_by=0)}"
      ]
     },
     "execution_count": 8,
     "metadata": {},
     "output_type": "execute_result"
    }
   ],
   "source": [
    "result._asdict()"
   ]
  },
  {
   "cell_type": "code",
   "execution_count": 11,
   "metadata": {},
   "outputs": [
    {
     "data": {
      "text/plain": [
       "{'action': 1,\n",
       " 'magic': 1258,\n",
       " 'order': 0,\n",
       " 'symbol': 'EURUSD',\n",
       " 'volume': 0.67,\n",
       " 'price': 0.0,\n",
       " 'stoplimit': 0.0,\n",
       " 'sl': 0.0,\n",
       " 'tp': 0.0,\n",
       " 'deviation': 0,\n",
       " 'type': 0,\n",
       " 'type_filling': 0,\n",
       " 'type_time': 0,\n",
       " 'expiration': 0,\n",
       " 'comment': 'FWK Market Order',\n",
       " 'position': 0,\n",
       " 'position_by': 0}"
      ]
     },
     "execution_count": 11,
     "metadata": {},
     "output_type": "execute_result"
    }
   ],
   "source": [
    "result.request._asdict()"
   ]
  },
  {
   "cell_type": "code",
   "execution_count": 15,
   "metadata": {},
   "outputs": [
    {
     "data": {
      "text/plain": [
       "{'ticket': 2019130296,\n",
       " 'order': 2026893445,\n",
       " 'time': 1715949580,\n",
       " 'time_msc': 1715949580806,\n",
       " 'type': 0,\n",
       " 'entry': 0,\n",
       " 'magic': 1258,\n",
       " 'position_id': 2026893445,\n",
       " 'reason': 3,\n",
       " 'volume': 0.67,\n",
       " 'price': 1.08433,\n",
       " 'commission': -1.6800000000000002,\n",
       " 'swap': 0.0,\n",
       " 'profit': 0.0,\n",
       " 'fee': 0.0,\n",
       " 'symbol': 'EURUSD',\n",
       " 'comment': 'FWK Market Order',\n",
       " 'external_id': ''}"
      ]
     },
     "execution_count": 15,
     "metadata": {},
     "output_type": "execute_result"
    }
   ],
   "source": [
    "mt5.history_deals_get(ticket=result.deal)[0]._asdict()  # type: ignore"
   ]
  },
  {
   "cell_type": "code",
   "execution_count": null,
   "metadata": {},
   "outputs": [],
   "source": []
  }
 ],
 "metadata": {
  "kernelspec": {
   "display_name": ".venv",
   "language": "python",
   "name": "python3"
  },
  "language_info": {
   "codemirror_mode": {
    "name": "ipython",
    "version": 3
   },
   "file_extension": ".py",
   "mimetype": "text/x-python",
   "name": "python",
   "nbconvert_exporter": "python",
   "pygments_lexer": "ipython3",
   "version": "3.12.1"
  }
 },
 "nbformat": 4,
 "nbformat_minor": 2
}
