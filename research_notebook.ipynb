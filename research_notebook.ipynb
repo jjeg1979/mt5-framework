{
 "cells": [
  {
   "cell_type": "code",
   "execution_count": 1,
   "metadata": {},
   "outputs": [],
   "source": [
    "import MetaTrader5 as mt5\n",
    "import pandas as pd"
   ]
  },
  {
   "cell_type": "code",
   "execution_count": 2,
   "metadata": {},
   "outputs": [
    {
     "data": {
      "text/plain": [
       "True"
      ]
     },
     "execution_count": 2,
     "metadata": {},
     "output_type": "execute_result"
    }
   ],
   "source": [
    "mt5.initialize(  # type: ignore\n",
    "    path=\"C:\\\\Program Files\\\\Darwinex MT5\\\\terminal64.exe\",\n",
    "    login=3000065368,\n",
    "    password=\"cS5O6j101#\",\n",
    "    server=\"Darwinex-Demo\",\n",
    "    timeout=60000,\n",
    "    portable=False)"
   ]
  },
  {
   "cell_type": "code",
   "execution_count": 3,
   "metadata": {},
   "outputs": [
    {
     "data": {
      "text/html": [
       "<div>\n",
       "<style scoped>\n",
       "    .dataframe tbody tr th:only-of-type {\n",
       "        vertical-align: middle;\n",
       "    }\n",
       "\n",
       "    .dataframe tbody tr th {\n",
       "        vertical-align: top;\n",
       "    }\n",
       "\n",
       "    .dataframe thead th {\n",
       "        text-align: right;\n",
       "    }\n",
       "</style>\n",
       "<table border=\"1\" class=\"dataframe\">\n",
       "  <thead>\n",
       "    <tr style=\"text-align: right;\">\n",
       "      <th></th>\n",
       "      <th>open</th>\n",
       "      <th>high</th>\n",
       "      <th>low</th>\n",
       "      <th>close</th>\n",
       "      <th>tickvol</th>\n",
       "      <th>vol</th>\n",
       "      <th>spread</th>\n",
       "    </tr>\n",
       "    <tr>\n",
       "      <th>time</th>\n",
       "      <th></th>\n",
       "      <th></th>\n",
       "      <th></th>\n",
       "      <th></th>\n",
       "      <th></th>\n",
       "      <th></th>\n",
       "      <th></th>\n",
       "    </tr>\n",
       "  </thead>\n",
       "  <tbody>\n",
       "    <tr>\n",
       "      <th>2024-05-15 20:15:00</th>\n",
       "      <td>1.08782</td>\n",
       "      <td>1.08787</td>\n",
       "      <td>1.08740</td>\n",
       "      <td>1.08766</td>\n",
       "      <td>489</td>\n",
       "      <td>0</td>\n",
       "      <td>0</td>\n",
       "    </tr>\n",
       "    <tr>\n",
       "      <th>2024-05-15 20:30:00</th>\n",
       "      <td>1.08766</td>\n",
       "      <td>1.08802</td>\n",
       "      <td>1.08760</td>\n",
       "      <td>1.08769</td>\n",
       "      <td>415</td>\n",
       "      <td>0</td>\n",
       "      <td>0</td>\n",
       "    </tr>\n",
       "    <tr>\n",
       "      <th>2024-05-15 20:45:00</th>\n",
       "      <td>1.08769</td>\n",
       "      <td>1.08805</td>\n",
       "      <td>1.08756</td>\n",
       "      <td>1.08799</td>\n",
       "      <td>347</td>\n",
       "      <td>0</td>\n",
       "      <td>0</td>\n",
       "    </tr>\n",
       "    <tr>\n",
       "      <th>2024-05-15 21:00:00</th>\n",
       "      <td>1.08799</td>\n",
       "      <td>1.08806</td>\n",
       "      <td>1.08767</td>\n",
       "      <td>1.08770</td>\n",
       "      <td>347</td>\n",
       "      <td>0</td>\n",
       "      <td>0</td>\n",
       "    </tr>\n",
       "    <tr>\n",
       "      <th>2024-05-15 21:15:00</th>\n",
       "      <td>1.08770</td>\n",
       "      <td>1.08770</td>\n",
       "      <td>1.08728</td>\n",
       "      <td>1.08763</td>\n",
       "      <td>331</td>\n",
       "      <td>0</td>\n",
       "      <td>0</td>\n",
       "    </tr>\n",
       "  </tbody>\n",
       "</table>\n",
       "</div>"
      ],
      "text/plain": [
       "                        open     high      low    close  tickvol  vol  spread\n",
       "time                                                                         \n",
       "2024-05-15 20:15:00  1.08782  1.08787  1.08740  1.08766      489    0       0\n",
       "2024-05-15 20:30:00  1.08766  1.08802  1.08760  1.08769      415    0       0\n",
       "2024-05-15 20:45:00  1.08769  1.08805  1.08756  1.08799      347    0       0\n",
       "2024-05-15 21:00:00  1.08799  1.08806  1.08767  1.08770      347    0       0\n",
       "2024-05-15 21:15:00  1.08770  1.08770  1.08728  1.08763      331    0       0"
      ]
     },
     "execution_count": 3,
     "metadata": {},
     "output_type": "execute_result"
    }
   ],
   "source": [
    "symbol = \"EURUSD\"\n",
    "tf = mt5.TIMEFRAME_M15\n",
    "from_position = 1\n",
    "num_bars = 50\n",
    "bars = pd.DataFrame(mt5.copy_rates_from_pos(symbol, tf, from_position, num_bars))  # type: ignore\n",
    "bars[\"time\"] = pd.to_datetime(bars[\"time\"], unit=\"s\")\n",
    "bars.set_index(\"time\", inplace=True)\n",
    "bars.rename(columns={'tick_volume': 'tickvol', 'real_volume': 'vol'}, inplace=True)\n",
    "bars = bars[['open', 'high', 'low', 'close', 'tickvol', 'vol', 'spread']]\n",
    "bars.head()\n",
    "\n"
   ]
  },
  {
   "cell_type": "code",
   "execution_count": 4,
   "metadata": {},
   "outputs": [
    {
     "name": "stdout",
     "output_type": "stream",
     "text": [
      "252 µs ± 49.1 µs per loop (mean ± std. dev. of 7 runs, 1,000 loops each)\n"
     ]
    }
   ],
   "source": [
    "%%timeit\n",
    "bars.close.rolling(window=10).mean().iloc[-1]"
   ]
  },
  {
   "cell_type": "code",
   "execution_count": 5,
   "metadata": {},
   "outputs": [
    {
     "name": "stdout",
     "output_type": "stream",
     "text": [
      "97.8 µs ± 11.4 µs per loop (mean ± std. dev. of 7 runs, 10,000 loops each)\n"
     ]
    }
   ],
   "source": [
    "%%timeit\n",
    "bars['close'][-10:].mean()"
   ]
  },
  {
   "cell_type": "code",
   "execution_count": 6,
   "metadata": {},
   "outputs": [
    {
     "data": {
      "text/html": [
       "<div>\n",
       "<style scoped>\n",
       "    .dataframe tbody tr th:only-of-type {\n",
       "        vertical-align: middle;\n",
       "    }\n",
       "\n",
       "    .dataframe tbody tr th {\n",
       "        vertical-align: top;\n",
       "    }\n",
       "\n",
       "    .dataframe thead th {\n",
       "        text-align: right;\n",
       "    }\n",
       "</style>\n",
       "<table border=\"1\" class=\"dataframe\">\n",
       "  <thead>\n",
       "    <tr style=\"text-align: right;\">\n",
       "      <th></th>\n",
       "      <th>open</th>\n",
       "      <th>high</th>\n",
       "      <th>low</th>\n",
       "      <th>close</th>\n",
       "      <th>tickvol</th>\n",
       "      <th>vol</th>\n",
       "      <th>spread</th>\n",
       "    </tr>\n",
       "    <tr>\n",
       "      <th>time</th>\n",
       "      <th></th>\n",
       "      <th></th>\n",
       "      <th></th>\n",
       "      <th></th>\n",
       "      <th></th>\n",
       "      <th></th>\n",
       "      <th></th>\n",
       "    </tr>\n",
       "  </thead>\n",
       "  <tbody>\n",
       "    <tr>\n",
       "      <th>2024-05-16 07:30:00</th>\n",
       "      <td>1.08859</td>\n",
       "      <td>1.08871</td>\n",
       "      <td>1.08849</td>\n",
       "      <td>1.08866</td>\n",
       "      <td>158</td>\n",
       "      <td>0</td>\n",
       "      <td>0</td>\n",
       "    </tr>\n",
       "    <tr>\n",
       "      <th>2024-05-16 07:45:00</th>\n",
       "      <td>1.08866</td>\n",
       "      <td>1.08869</td>\n",
       "      <td>1.08845</td>\n",
       "      <td>1.08847</td>\n",
       "      <td>229</td>\n",
       "      <td>0</td>\n",
       "      <td>0</td>\n",
       "    </tr>\n",
       "    <tr>\n",
       "      <th>2024-05-16 08:00:00</th>\n",
       "      <td>1.08847</td>\n",
       "      <td>1.08850</td>\n",
       "      <td>1.08815</td>\n",
       "      <td>1.08819</td>\n",
       "      <td>204</td>\n",
       "      <td>0</td>\n",
       "      <td>0</td>\n",
       "    </tr>\n",
       "    <tr>\n",
       "      <th>2024-05-16 08:15:00</th>\n",
       "      <td>1.08819</td>\n",
       "      <td>1.08832</td>\n",
       "      <td>1.08811</td>\n",
       "      <td>1.08820</td>\n",
       "      <td>189</td>\n",
       "      <td>0</td>\n",
       "      <td>0</td>\n",
       "    </tr>\n",
       "    <tr>\n",
       "      <th>2024-05-16 08:30:00</th>\n",
       "      <td>1.08820</td>\n",
       "      <td>1.08841</td>\n",
       "      <td>1.08812</td>\n",
       "      <td>1.08818</td>\n",
       "      <td>211</td>\n",
       "      <td>0</td>\n",
       "      <td>0</td>\n",
       "    </tr>\n",
       "  </tbody>\n",
       "</table>\n",
       "</div>"
      ],
      "text/plain": [
       "                        open     high      low    close  tickvol  vol  spread\n",
       "time                                                                         \n",
       "2024-05-16 07:30:00  1.08859  1.08871  1.08849  1.08866      158    0       0\n",
       "2024-05-16 07:45:00  1.08866  1.08869  1.08845  1.08847      229    0       0\n",
       "2024-05-16 08:00:00  1.08847  1.08850  1.08815  1.08819      204    0       0\n",
       "2024-05-16 08:15:00  1.08819  1.08832  1.08811  1.08820      189    0       0\n",
       "2024-05-16 08:30:00  1.08820  1.08841  1.08812  1.08818      211    0       0"
      ]
     },
     "execution_count": 6,
     "metadata": {},
     "output_type": "execute_result"
    }
   ],
   "source": [
    "bars[-5:]"
   ]
  },
  {
   "cell_type": "code",
   "execution_count": 7,
   "metadata": {},
   "outputs": [
    {
     "data": {
      "text/plain": [
       "{'time': 1715849975,\n",
       " 'bid': 1.08798,\n",
       " 'ask': 1.08801,\n",
       " 'last': 0.0,\n",
       " 'volume': 0,\n",
       " 'time_msc': 1715849975902,\n",
       " 'flags': 2,\n",
       " 'volume_real': 0.0}"
      ]
     },
     "execution_count": 7,
     "metadata": {},
     "output_type": "execute_result"
    }
   ],
   "source": [
    "mt5.symbol_info_tick(\"EURUSD\")._asdict()  # type: ignore"
   ]
  },
  {
   "cell_type": "code",
   "execution_count": 8,
   "metadata": {},
   "outputs": [],
   "source": [
    "def get_latest_tick(symbol: str) -> dict[str, any]:  # type: ignore\n",
    "    try:\n",
    "        tick = mt5.symbol_info_tick(symbol)  # type: ignore\n",
    "        if tick is None:\n",
    "            print(f\"Unable to retrieve last tick data of {symbol}!\")\n",
    "            return {}  # type: ignore\n",
    "    except Exception as e:\n",
    "        print(f\"Something went wrong retrieving data from {symbol}. MT5 errror: {mt5.last_error()}, exception: {e}\")  # type: ignore\n",
    "    \n",
    "    else:\n",
    "        return tick._asdict()  # type: ignore   \n"
   ]
  },
  {
   "cell_type": "code",
   "execution_count": 9,
   "metadata": {},
   "outputs": [
    {
     "name": "stdout",
     "output_type": "stream",
     "text": [
      "Unable to retrieve last tick data of asfda!\n"
     ]
    },
    {
     "data": {
      "text/plain": [
       "{}"
      ]
     },
     "execution_count": 9,
     "metadata": {},
     "output_type": "execute_result"
    }
   ],
   "source": [
    "get_latest_tick(\"asfda\")"
   ]
  },
  {
   "cell_type": "code",
   "execution_count": 10,
   "metadata": {},
   "outputs": [],
   "source": [
    "from enum import StrEnum, auto\n",
    "\n",
    "class EventType(StrEnum):\n",
    "    DATA = auto()"
   ]
  },
  {
   "cell_type": "code",
   "execution_count": 11,
   "metadata": {},
   "outputs": [],
   "source": [
    "evento: EventType = EventType.DATA"
   ]
  },
  {
   "cell_type": "code",
   "execution_count": 12,
   "metadata": {},
   "outputs": [
    {
     "data": {
      "text/plain": [
       "0.1"
      ]
     },
     "execution_count": 12,
     "metadata": {},
     "output_type": "execute_result"
    }
   ],
   "source": [
    "# symbol_info\n",
    "mt5.symbol_info(\"XNGUSD\").volume_min  # type: ignore"
   ]
  },
  {
   "cell_type": "code",
   "execution_count": 18,
   "metadata": {},
   "outputs": [
    {
     "data": {
      "text/plain": [
       "{'login': 3000065368,\n",
       " 'trade_mode': 0,\n",
       " 'leverage': 200,\n",
       " 'limit_orders': 400,\n",
       " 'margin_so_mode': 0,\n",
       " 'trade_allowed': True,\n",
       " 'trade_expert': True,\n",
       " 'margin_mode': 2,\n",
       " 'currency_digits': 2,\n",
       " 'fifo_close': False,\n",
       " 'balance': 1000000.0,\n",
       " 'credit': 0.0,\n",
       " 'profit': 0.0,\n",
       " 'equity': 1000000.0,\n",
       " 'margin': 0.0,\n",
       " 'margin_free': 1000000.0,\n",
       " 'margin_level': 0.0,\n",
       " 'margin_so_call': 100.0,\n",
       " 'margin_so_so': 50.0,\n",
       " 'margin_initial': 0.0,\n",
       " 'margin_maintenance': 0.0,\n",
       " 'assets': 0.0,\n",
       " 'liabilities': 0.0,\n",
       " 'commission_blocked': 0.0,\n",
       " 'name': 'strangerThings',\n",
       " 'server': 'Darwinex-Demo',\n",
       " 'currency': 'EUR',\n",
       " 'company': 'Tradeslide Trading Tech Limited'}"
      ]
     },
     "execution_count": 18,
     "metadata": {},
     "output_type": "execute_result"
    }
   ],
   "source": [
    "# Información de la cuenta\n",
    "account_info = mt5.account_info()._asdict()  # type: ignore\n",
    "account_info"
   ]
  },
  {
   "cell_type": "code",
   "execution_count": 16,
   "metadata": {},
   "outputs": [
    {
     "data": {
      "text/plain": [
       "{'custom': False,\n",
       " 'chart_mode': 0,\n",
       " 'select': True,\n",
       " 'visible': True,\n",
       " 'session_deals': 0,\n",
       " 'session_buy_orders': 0,\n",
       " 'session_sell_orders': 0,\n",
       " 'volume': 0,\n",
       " 'volumehigh': 0,\n",
       " 'volumelow': 0,\n",
       " 'time': 1715850154,\n",
       " 'digits': 3,\n",
       " 'spread': 10,\n",
       " 'spread_float': True,\n",
       " 'ticks_bookdepth': 32,\n",
       " 'trade_calc_mode': 5,\n",
       " 'trade_mode': 4,\n",
       " 'start_time': 0,\n",
       " 'expiration_time': 0,\n",
       " 'trade_stops_level': 0,\n",
       " 'trade_freeze_level': 0,\n",
       " 'trade_exemode': 2,\n",
       " 'swap_mode': 1,\n",
       " 'swap_rollover3days': 3,\n",
       " 'margin_hedged_use_leg': False,\n",
       " 'expiration_mode': 15,\n",
       " 'filling_mode': 3,\n",
       " 'order_mode': 127,\n",
       " 'order_gtc_mode': 0,\n",
       " 'option_mode': 0,\n",
       " 'option_right': 0,\n",
       " 'bid': 154.233,\n",
       " 'bidhigh': 154.843,\n",
       " 'bidlow': 153.597,\n",
       " 'ask': 154.243,\n",
       " 'askhigh': 154.898,\n",
       " 'asklow': 153.601,\n",
       " 'last': 0.0,\n",
       " 'lasthigh': 0.0,\n",
       " 'lastlow': 0.0,\n",
       " 'volume_real': 0.0,\n",
       " 'volumehigh_real': 0.0,\n",
       " 'volumelow_real': 0.0,\n",
       " 'option_strike': 0.0,\n",
       " 'point': 0.001,\n",
       " 'trade_tick_value': 0.5958516805996651,\n",
       " 'trade_tick_value_profit': 0.5958516805996651,\n",
       " 'trade_tick_value_loss': 0.5958694330898214,\n",
       " 'trade_tick_size': 0.001,\n",
       " 'trade_contract_size': 100000.0,\n",
       " 'trade_accrued_interest': 0.0,\n",
       " 'trade_face_value': 0.0,\n",
       " 'trade_liquidity_rate': 0.0,\n",
       " 'volume_min': 0.01,\n",
       " 'volume_max': 100.0,\n",
       " 'volume_step': 0.01,\n",
       " 'volume_limit': 0.0,\n",
       " 'swap_long': 19.9,\n",
       " 'swap_short': -28.3,\n",
       " 'margin_initial': 0.0,\n",
       " 'margin_maintenance': 0.0,\n",
       " 'session_volume': 0.0,\n",
       " 'session_turnover': 0.0,\n",
       " 'session_interest': 0.0,\n",
       " 'session_buy_orders_volume': 0.0,\n",
       " 'session_sell_orders_volume': 0.0,\n",
       " 'session_open': 154.838,\n",
       " 'session_close': 154.886,\n",
       " 'session_aw': 0.0,\n",
       " 'session_price_settlement': 0.0,\n",
       " 'session_price_limit_min': 0.0,\n",
       " 'session_price_limit_max': 0.0,\n",
       " 'margin_hedged': 0.0,\n",
       " 'price_change': -0.4216,\n",
       " 'price_volatility': 0.0,\n",
       " 'price_theoretical': 0.0,\n",
       " 'price_greeks_delta': 0.0,\n",
       " 'price_greeks_theta': 0.0,\n",
       " 'price_greeks_gamma': 0.0,\n",
       " 'price_greeks_vega': 0.0,\n",
       " 'price_greeks_rho': 0.0,\n",
       " 'price_greeks_omega': 0.0,\n",
       " 'price_sensitivity': 0.0,\n",
       " 'basis': '',\n",
       " 'category': '',\n",
       " 'currency_base': 'USD',\n",
       " 'currency_profit': 'JPY',\n",
       " 'currency_margin': 'USD',\n",
       " 'bank': '',\n",
       " 'description': 'US Dollar vs Japanese Yen',\n",
       " 'exchange': '',\n",
       " 'formula': '',\n",
       " 'isin': '',\n",
       " 'name': 'USDJPY',\n",
       " 'page': '',\n",
       " 'path': 'Forex\\\\USDJPY'}"
      ]
     },
     "execution_count": 16,
     "metadata": {},
     "output_type": "execute_result"
    }
   ],
   "source": [
    "# symbol_info\n",
    "mt5.symbol_info(\"USDJPY\")._asdict()  # type: ignore"
   ]
  },
  {
   "cell_type": "code",
   "execution_count": null,
   "metadata": {},
   "outputs": [],
   "source": []
  }
 ],
 "metadata": {
  "kernelspec": {
   "display_name": ".venv",
   "language": "python",
   "name": "python3"
  },
  "language_info": {
   "codemirror_mode": {
    "name": "ipython",
    "version": 3
   },
   "file_extension": ".py",
   "mimetype": "text/x-python",
   "name": "python",
   "nbconvert_exporter": "python",
   "pygments_lexer": "ipython3",
   "version": "3.12.1"
  }
 },
 "nbformat": 4,
 "nbformat_minor": 2
}
