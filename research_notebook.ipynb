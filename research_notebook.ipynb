{
 "cells": [
  {
   "cell_type": "code",
   "execution_count": 2,
   "metadata": {},
   "outputs": [],
   "source": [
    "import MetaTrader5 as mt5\n",
    "import pandas as pd"
   ]
  },
  {
   "cell_type": "code",
   "execution_count": 4,
   "metadata": {},
   "outputs": [
    {
     "name": "stderr",
     "output_type": "stream",
     "text": [
      "<>:2: SyntaxWarning: invalid escape sequence '\\R'\n",
      "<>:2: SyntaxWarning: invalid escape sequence '\\R'\n",
      "C:\\Users\\JJEXPOSI\\AppData\\Local\\Temp\\ipykernel_37228\\2793506101.py:2: SyntaxWarning: invalid escape sequence '\\R'\n",
      "  path=\"C:\\\\Users\\\\JJEXPOSI\\\\AppData\\Roaming\\\\DWX5-0\\\\terminal64.exe\",\n"
     ]
    },
    {
     "data": {
      "text/plain": [
       "True"
      ]
     },
     "execution_count": 4,
     "metadata": {},
     "output_type": "execute_result"
    }
   ],
   "source": [
    "mt5.initialize(\n",
    "    path=\"C:\\\\Users\\\\JJEXPOSI\\\\AppData\\\\Roaming\\\\DWX5-0\\\\terminal64.exe\",\n",
    "    login=3000065368,\n",
    "    password=\"cS5O6j101#\",\n",
    "    server=\"Darwinex-Demo\",\n",
    "    timeout=60000,\n",
    "    portable=False)"
   ]
  },
  {
   "cell_type": "code",
   "execution_count": 32,
   "metadata": {},
   "outputs": [
    {
     "data": {
      "text/html": [
       "<div>\n",
       "<style scoped>\n",
       "    .dataframe tbody tr th:only-of-type {\n",
       "        vertical-align: middle;\n",
       "    }\n",
       "\n",
       "    .dataframe tbody tr th {\n",
       "        vertical-align: top;\n",
       "    }\n",
       "\n",
       "    .dataframe thead th {\n",
       "        text-align: right;\n",
       "    }\n",
       "</style>\n",
       "<table border=\"1\" class=\"dataframe\">\n",
       "  <thead>\n",
       "    <tr style=\"text-align: right;\">\n",
       "      <th></th>\n",
       "      <th>open</th>\n",
       "      <th>high</th>\n",
       "      <th>low</th>\n",
       "      <th>close</th>\n",
       "      <th>tickvol</th>\n",
       "      <th>vol</th>\n",
       "      <th>spread</th>\n",
       "    </tr>\n",
       "    <tr>\n",
       "      <th>time</th>\n",
       "      <th></th>\n",
       "      <th></th>\n",
       "      <th></th>\n",
       "      <th></th>\n",
       "      <th></th>\n",
       "      <th></th>\n",
       "      <th></th>\n",
       "    </tr>\n",
       "  </thead>\n",
       "  <tbody>\n",
       "    <tr>\n",
       "      <th>2024-05-13 04:15:00</th>\n",
       "      <td>1.07700</td>\n",
       "      <td>1.07718</td>\n",
       "      <td>1.07687</td>\n",
       "      <td>1.07718</td>\n",
       "      <td>485</td>\n",
       "      <td>0</td>\n",
       "      <td>0</td>\n",
       "    </tr>\n",
       "    <tr>\n",
       "      <th>2024-05-13 04:30:00</th>\n",
       "      <td>1.07717</td>\n",
       "      <td>1.07733</td>\n",
       "      <td>1.07693</td>\n",
       "      <td>1.07698</td>\n",
       "      <td>466</td>\n",
       "      <td>0</td>\n",
       "      <td>0</td>\n",
       "    </tr>\n",
       "    <tr>\n",
       "      <th>2024-05-13 04:45:00</th>\n",
       "      <td>1.07697</td>\n",
       "      <td>1.07702</td>\n",
       "      <td>1.07676</td>\n",
       "      <td>1.07689</td>\n",
       "      <td>365</td>\n",
       "      <td>0</td>\n",
       "      <td>0</td>\n",
       "    </tr>\n",
       "    <tr>\n",
       "      <th>2024-05-13 05:00:00</th>\n",
       "      <td>1.07689</td>\n",
       "      <td>1.07705</td>\n",
       "      <td>1.07685</td>\n",
       "      <td>1.07700</td>\n",
       "      <td>326</td>\n",
       "      <td>0</td>\n",
       "      <td>0</td>\n",
       "    </tr>\n",
       "    <tr>\n",
       "      <th>2024-05-13 05:15:00</th>\n",
       "      <td>1.07700</td>\n",
       "      <td>1.07708</td>\n",
       "      <td>1.07659</td>\n",
       "      <td>1.07662</td>\n",
       "      <td>219</td>\n",
       "      <td>0</td>\n",
       "      <td>0</td>\n",
       "    </tr>\n",
       "  </tbody>\n",
       "</table>\n",
       "</div>"
      ],
      "text/plain": [
       "                        open     high      low    close  tickvol  vol  spread\n",
       "time                                                                         \n",
       "2024-05-13 04:15:00  1.07700  1.07718  1.07687  1.07718      485    0       0\n",
       "2024-05-13 04:30:00  1.07717  1.07733  1.07693  1.07698      466    0       0\n",
       "2024-05-13 04:45:00  1.07697  1.07702  1.07676  1.07689      365    0       0\n",
       "2024-05-13 05:00:00  1.07689  1.07705  1.07685  1.07700      326    0       0\n",
       "2024-05-13 05:15:00  1.07700  1.07708  1.07659  1.07662      219    0       0"
      ]
     },
     "execution_count": 32,
     "metadata": {},
     "output_type": "execute_result"
    }
   ],
   "source": [
    "symbol = \"EURUSD\"\n",
    "tf = mt5.TIMEFRAME_M15\n",
    "from_position = 1\n",
    "num_bars = 50\n",
    "bars = pd.DataFrame(mt5.copy_rates_from_pos(symbol, tf, from_position, num_bars))\n",
    "bars[\"time\"] = pd.to_datetime(bars[\"time\"], unit=\"s\")\n",
    "bars.set_index(\"time\", inplace=True)\n",
    "bars.rename(columns={'tick_volume': 'tickvol', 'real_volume': 'vol'}, inplace=True)\n",
    "bars = bars[['open', 'high', 'low', 'close', 'tickvol', 'vol', 'spread']]\n",
    "bars.head()\n",
    "\n"
   ]
  },
  {
   "cell_type": "code",
   "execution_count": 39,
   "metadata": {},
   "outputs": [
    {
     "data": {
      "text/plain": [
       "{'time': 1715638320,\n",
       " 'bid': 1.07873,\n",
       " 'ask': 1.07875,\n",
       " 'last': 0.0,\n",
       " 'volume': 0,\n",
       " 'time_msc': 1715638320325,\n",
       " 'flags': 4,\n",
       " 'volume_real': 0.0}"
      ]
     },
     "execution_count": 39,
     "metadata": {},
     "output_type": "execute_result"
    }
   ],
   "source": [
    "mt5.symbol_info_tick(\"EURUSD\")._asdict()"
   ]
  },
  {
   "cell_type": "code",
   "execution_count": 42,
   "metadata": {},
   "outputs": [],
   "source": [
    "def get_latest_tick(symbol: str) -> dict:\n",
    "    try:\n",
    "        tick = mt5.symbol_info_tick(symbol)\n",
    "        if tick is None:\n",
    "            print(f\"Unable to retrieve last tick data of {symbol}!\")\n",
    "            return {}\n",
    "    except Exception as e:\n",
    "        print(f\"Something went wrong retrieving data from {symbol}. MT5 errror: {mt5.last_error()}, exception: {e}\")\n",
    "    \n",
    "    else:\n",
    "        return tick._asdict()\n"
   ]
  },
  {
   "cell_type": "code",
   "execution_count": 45,
   "metadata": {},
   "outputs": [
    {
     "name": "stdout",
     "output_type": "stream",
     "text": [
      "Unable to retrieve last tick data of asfda!\n"
     ]
    },
    {
     "data": {
      "text/plain": [
       "{}"
      ]
     },
     "execution_count": 45,
     "metadata": {},
     "output_type": "execute_result"
    }
   ],
   "source": [
    "get_latest_tick(\"asfda\")"
   ]
  },
  {
   "cell_type": "code",
   "execution_count": 47,
   "metadata": {},
   "outputs": [],
   "source": [
    "from enum import StrEnum, auto\n",
    "\n",
    "class EventType(StrEnum):\n",
    "    DATA = auto()"
   ]
  },
  {
   "cell_type": "code",
   "execution_count": 49,
   "metadata": {},
   "outputs": [],
   "source": [
    "evento: EventType = EventType.DATA"
   ]
  },
  {
   "cell_type": "code",
   "execution_count": 51,
   "metadata": {},
   "outputs": [
    {
     "data": {
      "text/plain": [
       "True"
      ]
     },
     "execution_count": 51,
     "metadata": {},
     "output_type": "execute_result"
    }
   ],
   "source": [
    "evento.DATA == \"data\""
   ]
  },
  {
   "cell_type": "code",
   "execution_count": null,
   "metadata": {},
   "outputs": [],
   "source": []
  }
 ],
 "metadata": {
  "kernelspec": {
   "display_name": ".venv",
   "language": "python",
   "name": "python3"
  },
  "language_info": {
   "codemirror_mode": {
    "name": "ipython",
    "version": 3
   },
   "file_extension": ".py",
   "mimetype": "text/x-python",
   "name": "python",
   "nbconvert_exporter": "python",
   "pygments_lexer": "ipython3",
   "version": "3.12.1"
  }
 },
 "nbformat": 4,
 "nbformat_minor": 2
}
