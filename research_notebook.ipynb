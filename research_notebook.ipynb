{
 "cells": [
  {
   "cell_type": "code",
   "execution_count": 1,
   "metadata": {},
   "outputs": [],
   "source": [
    "import MetaTrader5 as mt5\n",
    "import pandas as pd"
   ]
  },
  {
   "cell_type": "code",
   "execution_count": 3,
   "metadata": {},
   "outputs": [
    {
     "data": {
      "text/plain": [
       "True"
      ]
     },
     "execution_count": 3,
     "metadata": {},
     "output_type": "execute_result"
    }
   ],
   "source": [
    "mt5.initialize(  # type: ignore\n",
    "    path=\"C:\\\\Program Files\\\\Darwinex MT5\\\\terminal64.exe\",\n",
    "    login=3000065368,\n",
    "    password=\"cS5O6j101#\",\n",
    "    server=\"Darwinex-Demo\",\n",
    "    timeout=60000,\n",
    "    portable=False)"
   ]
  },
  {
   "cell_type": "code",
   "execution_count": 4,
   "metadata": {},
   "outputs": [
    {
     "data": {
      "text/html": [
       "<div>\n",
       "<style scoped>\n",
       "    .dataframe tbody tr th:only-of-type {\n",
       "        vertical-align: middle;\n",
       "    }\n",
       "\n",
       "    .dataframe tbody tr th {\n",
       "        vertical-align: top;\n",
       "    }\n",
       "\n",
       "    .dataframe thead th {\n",
       "        text-align: right;\n",
       "    }\n",
       "</style>\n",
       "<table border=\"1\" class=\"dataframe\">\n",
       "  <thead>\n",
       "    <tr style=\"text-align: right;\">\n",
       "      <th></th>\n",
       "      <th>open</th>\n",
       "      <th>high</th>\n",
       "      <th>low</th>\n",
       "      <th>close</th>\n",
       "      <th>tickvol</th>\n",
       "      <th>vol</th>\n",
       "      <th>spread</th>\n",
       "    </tr>\n",
       "    <tr>\n",
       "      <th>time</th>\n",
       "      <th></th>\n",
       "      <th></th>\n",
       "      <th></th>\n",
       "      <th></th>\n",
       "      <th></th>\n",
       "      <th></th>\n",
       "      <th></th>\n",
       "    </tr>\n",
       "  </thead>\n",
       "  <tbody>\n",
       "    <tr>\n",
       "      <th>2024-05-15 19:45:00</th>\n",
       "      <td>1.08714</td>\n",
       "      <td>1.08728</td>\n",
       "      <td>1.08685</td>\n",
       "      <td>1.08720</td>\n",
       "      <td>515</td>\n",
       "      <td>0</td>\n",
       "      <td>0</td>\n",
       "    </tr>\n",
       "    <tr>\n",
       "      <th>2024-05-15 20:00:00</th>\n",
       "      <td>1.08720</td>\n",
       "      <td>1.08783</td>\n",
       "      <td>1.08716</td>\n",
       "      <td>1.08781</td>\n",
       "      <td>661</td>\n",
       "      <td>0</td>\n",
       "      <td>0</td>\n",
       "    </tr>\n",
       "    <tr>\n",
       "      <th>2024-05-15 20:15:00</th>\n",
       "      <td>1.08782</td>\n",
       "      <td>1.08787</td>\n",
       "      <td>1.08740</td>\n",
       "      <td>1.08766</td>\n",
       "      <td>489</td>\n",
       "      <td>0</td>\n",
       "      <td>0</td>\n",
       "    </tr>\n",
       "    <tr>\n",
       "      <th>2024-05-15 20:30:00</th>\n",
       "      <td>1.08766</td>\n",
       "      <td>1.08802</td>\n",
       "      <td>1.08760</td>\n",
       "      <td>1.08769</td>\n",
       "      <td>415</td>\n",
       "      <td>0</td>\n",
       "      <td>0</td>\n",
       "    </tr>\n",
       "    <tr>\n",
       "      <th>2024-05-15 20:45:00</th>\n",
       "      <td>1.08769</td>\n",
       "      <td>1.08805</td>\n",
       "      <td>1.08756</td>\n",
       "      <td>1.08799</td>\n",
       "      <td>347</td>\n",
       "      <td>0</td>\n",
       "      <td>0</td>\n",
       "    </tr>\n",
       "  </tbody>\n",
       "</table>\n",
       "</div>"
      ],
      "text/plain": [
       "                        open     high      low    close  tickvol  vol  spread\n",
       "time                                                                         \n",
       "2024-05-15 19:45:00  1.08714  1.08728  1.08685  1.08720      515    0       0\n",
       "2024-05-15 20:00:00  1.08720  1.08783  1.08716  1.08781      661    0       0\n",
       "2024-05-15 20:15:00  1.08782  1.08787  1.08740  1.08766      489    0       0\n",
       "2024-05-15 20:30:00  1.08766  1.08802  1.08760  1.08769      415    0       0\n",
       "2024-05-15 20:45:00  1.08769  1.08805  1.08756  1.08799      347    0       0"
      ]
     },
     "execution_count": 4,
     "metadata": {},
     "output_type": "execute_result"
    }
   ],
   "source": [
    "symbol = \"EURUSD\"\n",
    "tf = mt5.TIMEFRAME_M15\n",
    "from_position = 1\n",
    "num_bars = 50\n",
    "bars = pd.DataFrame(mt5.copy_rates_from_pos(symbol, tf, from_position, num_bars))  # type: ignore\n",
    "bars[\"time\"] = pd.to_datetime(bars[\"time\"], unit=\"s\")\n",
    "bars.set_index(\"time\", inplace=True)\n",
    "bars.rename(columns={'tick_volume': 'tickvol', 'real_volume': 'vol'}, inplace=True)\n",
    "bars = bars[['open', 'high', 'low', 'close', 'tickvol', 'vol', 'spread']]\n",
    "bars.head()\n",
    "\n"
   ]
  },
  {
   "cell_type": "code",
   "execution_count": 8,
   "metadata": {},
   "outputs": [
    {
     "name": "stdout",
     "output_type": "stream",
     "text": [
      "177 µs ± 51.8 µs per loop (mean ± std. dev. of 7 runs, 1,000 loops each)\n"
     ]
    }
   ],
   "source": [
    "%%timeit\n",
    "bars.close.rolling(window=10).mean().iloc[-1]"
   ]
  },
  {
   "cell_type": "code",
   "execution_count": 9,
   "metadata": {},
   "outputs": [
    {
     "name": "stdout",
     "output_type": "stream",
     "text": [
      "98.1 µs ± 16.9 µs per loop (mean ± std. dev. of 7 runs, 10,000 loops each)\n"
     ]
    }
   ],
   "source": [
    "%%timeit\n",
    "bars['close'][-10:].mean()"
   ]
  },
  {
   "cell_type": "code",
   "execution_count": 11,
   "metadata": {},
   "outputs": [
    {
     "data": {
      "text/html": [
       "<div>\n",
       "<style scoped>\n",
       "    .dataframe tbody tr th:only-of-type {\n",
       "        vertical-align: middle;\n",
       "    }\n",
       "\n",
       "    .dataframe tbody tr th {\n",
       "        vertical-align: top;\n",
       "    }\n",
       "\n",
       "    .dataframe thead th {\n",
       "        text-align: right;\n",
       "    }\n",
       "</style>\n",
       "<table border=\"1\" class=\"dataframe\">\n",
       "  <thead>\n",
       "    <tr style=\"text-align: right;\">\n",
       "      <th></th>\n",
       "      <th>open</th>\n",
       "      <th>high</th>\n",
       "      <th>low</th>\n",
       "      <th>close</th>\n",
       "      <th>tickvol</th>\n",
       "      <th>vol</th>\n",
       "      <th>spread</th>\n",
       "    </tr>\n",
       "    <tr>\n",
       "      <th>time</th>\n",
       "      <th></th>\n",
       "      <th></th>\n",
       "      <th></th>\n",
       "      <th></th>\n",
       "      <th></th>\n",
       "      <th></th>\n",
       "      <th></th>\n",
       "    </tr>\n",
       "  </thead>\n",
       "  <tbody>\n",
       "    <tr>\n",
       "      <th>2024-05-14 15:30:00</th>\n",
       "      <td>1.07954</td>\n",
       "      <td>1.08089</td>\n",
       "      <td>1.07668</td>\n",
       "      <td>1.08053</td>\n",
       "      <td>5246</td>\n",
       "      <td>0</td>\n",
       "      <td>0</td>\n",
       "    </tr>\n",
       "    <tr>\n",
       "      <th>2024-05-14 15:45:00</th>\n",
       "      <td>1.08053</td>\n",
       "      <td>1.08106</td>\n",
       "      <td>1.08000</td>\n",
       "      <td>1.08031</td>\n",
       "      <td>2387</td>\n",
       "      <td>0</td>\n",
       "      <td>0</td>\n",
       "    </tr>\n",
       "    <tr>\n",
       "      <th>2024-05-14 16:00:00</th>\n",
       "      <td>1.08031</td>\n",
       "      <td>1.08220</td>\n",
       "      <td>1.08007</td>\n",
       "      <td>1.08198</td>\n",
       "      <td>2201</td>\n",
       "      <td>0</td>\n",
       "      <td>0</td>\n",
       "    </tr>\n",
       "    <tr>\n",
       "      <th>2024-05-14 16:15:00</th>\n",
       "      <td>1.08198</td>\n",
       "      <td>1.08227</td>\n",
       "      <td>1.08121</td>\n",
       "      <td>1.08156</td>\n",
       "      <td>1746</td>\n",
       "      <td>0</td>\n",
       "      <td>0</td>\n",
       "    </tr>\n",
       "    <tr>\n",
       "      <th>2024-05-14 16:30:00</th>\n",
       "      <td>1.08155</td>\n",
       "      <td>1.08181</td>\n",
       "      <td>1.08117</td>\n",
       "      <td>1.08135</td>\n",
       "      <td>1438</td>\n",
       "      <td>0</td>\n",
       "      <td>0</td>\n",
       "    </tr>\n",
       "  </tbody>\n",
       "</table>\n",
       "</div>"
      ],
      "text/plain": [
       "                        open     high      low    close  tickvol  vol  spread\n",
       "time                                                                         \n",
       "2024-05-14 15:30:00  1.07954  1.08089  1.07668  1.08053     5246    0       0\n",
       "2024-05-14 15:45:00  1.08053  1.08106  1.08000  1.08031     2387    0       0\n",
       "2024-05-14 16:00:00  1.08031  1.08220  1.08007  1.08198     2201    0       0\n",
       "2024-05-14 16:15:00  1.08198  1.08227  1.08121  1.08156     1746    0       0\n",
       "2024-05-14 16:30:00  1.08155  1.08181  1.08117  1.08135     1438    0       0"
      ]
     },
     "execution_count": 11,
     "metadata": {},
     "output_type": "execute_result"
    }
   ],
   "source": [
    "bars[-5:]"
   ]
  },
  {
   "cell_type": "code",
   "execution_count": 39,
   "metadata": {},
   "outputs": [
    {
     "data": {
      "text/plain": [
       "{'time': 1715638320,\n",
       " 'bid': 1.07873,\n",
       " 'ask': 1.07875,\n",
       " 'last': 0.0,\n",
       " 'volume': 0,\n",
       " 'time_msc': 1715638320325,\n",
       " 'flags': 4,\n",
       " 'volume_real': 0.0}"
      ]
     },
     "execution_count": 39,
     "metadata": {},
     "output_type": "execute_result"
    }
   ],
   "source": [
    "mt5.symbol_info_tick(\"EURUSD\")._asdict()  # type: ignore"
   ]
  },
  {
   "cell_type": "code",
   "execution_count": 42,
   "metadata": {},
   "outputs": [],
   "source": [
    "def get_latest_tick(symbol: str) -> dict[str, any]:  # type: ignore\n",
    "    try:\n",
    "        tick = mt5.symbol_info_tick(symbol)  # type: ignore\n",
    "        if tick is None:\n",
    "            print(f\"Unable to retrieve last tick data of {symbol}!\")\n",
    "            return {}  # type: ignore\n",
    "    except Exception as e:\n",
    "        print(f\"Something went wrong retrieving data from {symbol}. MT5 errror: {mt5.last_error()}, exception: {e}\")  # type: ignore\n",
    "    \n",
    "    else:\n",
    "        return tick._asdict()  # type: ignore   \n"
   ]
  },
  {
   "cell_type": "code",
   "execution_count": 45,
   "metadata": {},
   "outputs": [
    {
     "name": "stdout",
     "output_type": "stream",
     "text": [
      "Unable to retrieve last tick data of asfda!\n"
     ]
    },
    {
     "data": {
      "text/plain": [
       "{}"
      ]
     },
     "execution_count": 45,
     "metadata": {},
     "output_type": "execute_result"
    }
   ],
   "source": [
    "get_latest_tick(\"asfda\")"
   ]
  },
  {
   "cell_type": "code",
   "execution_count": 47,
   "metadata": {},
   "outputs": [],
   "source": [
    "from enum import StrEnum, auto\n",
    "\n",
    "class EventType(StrEnum):\n",
    "    DATA = auto()"
   ]
  },
  {
   "cell_type": "code",
   "execution_count": 49,
   "metadata": {},
   "outputs": [],
   "source": [
    "evento: EventType = EventType.DATA"
   ]
  },
  {
   "cell_type": "code",
   "execution_count": 7,
   "metadata": {},
   "outputs": [
    {
     "data": {
      "text/plain": [
       "0.1"
      ]
     },
     "execution_count": 7,
     "metadata": {},
     "output_type": "execute_result"
    }
   ],
   "source": [
    "# symbol_info\n",
    "mt5.symbol_info(\"XNGUSD\").volume_min  # type: ignore"
   ]
  },
  {
   "cell_type": "code",
   "execution_count": null,
   "metadata": {},
   "outputs": [],
   "source": []
  }
 ],
 "metadata": {
  "kernelspec": {
   "display_name": ".venv",
   "language": "python",
   "name": "python3"
  },
  "language_info": {
   "codemirror_mode": {
    "name": "ipython",
    "version": 3
   },
   "file_extension": ".py",
   "mimetype": "text/x-python",
   "name": "python",
   "nbconvert_exporter": "python",
   "pygments_lexer": "ipython3",
   "version": "3.12.1"
  }
 },
 "nbformat": 4,
 "nbformat_minor": 2
}
